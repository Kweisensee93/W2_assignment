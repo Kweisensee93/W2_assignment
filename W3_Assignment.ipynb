{
 "cells": [
  {
   "cell_type": "markdown",
   "metadata": {},
   "source": [
    "<h2><center>Week 3 - Assignment</center></h2>\n",
    "<h3><center>Programming for Data Science 2024</center></h3>"
   ]
  },
  {
   "cell_type": "markdown",
   "metadata": {},
   "source": [
    "Exercises for the topics covered in the third lecture.\n",
    "\n",
    "The exercise will be marked as passed if you get **at least 10/15** points.\n",
    "\n",
    "Exercises must be handed in via **ILIAS** (Homework assignments). Deliver your submission as a compressed file (zip) containing one .py or .ipynb file with all exercises. The name of both the .zip and the .py/.ipynb file must be *SurnameName* of the two members of the group. Example: Riccardo Cusinato + Athina Tzovara = *CusinatoRiccardo_TzovaraAthina.zip* .\n",
    "\n",
    "It's important to use comments to explain your code and show that you're able to take ownership of the exercises and discuss them.\n",
    "\n",
    "You are not expected to collaborate outside of the group on exercises and submitting other groups’ code as your own will result in 0 points.\n",
    "\n",
    "For questions contact: *riccardo.cusinato@unibe.ch* with the subject: *Programming for Data Science 2024*.\n",
    "\n",
    "**Deadline: 14:00, March 14, 2024.**"
   ]
  },
  {
   "cell_type": "markdown",
   "metadata": {},
   "source": [
    "<h3 style=\"text-align:left;\">Exercise 1 - Error investigation<span style=\"float: right\">2 points</span></h3>"
   ]
  },
  {
   "cell_type": "markdown",
   "metadata": {},
   "source": [
    "The code below squares and sums the numbers in the array *arr*, and holds the result in the variable *squared_sum*, which should be 1135. However, that is not the case. Correct the code and explain in a comment , clearly and amply, what was wrong."
   ]
  },
  {
   "cell_type": "code",
   "execution_count": 2,
   "metadata": {},
   "outputs": [
    {
     "data": {
      "text/plain": [
       "1135"
      ]
     },
     "execution_count": 2,
     "metadata": {},
     "output_type": "execute_result"
    }
   ],
   "source": [
    "import numpy as np\n",
    "\n",
    "arr = np.array([13, 14, 15, 16, 17], dtype=np.int64)\n",
    "squared_sum = np.sum(arr ** 2)\n",
    "squared_sum"
   ]
  },
  {
   "cell_type": "code",
   "execution_count": null,
   "metadata": {},
   "outputs": [],
   "source": [
    "###\n",
    "# YOUR COMMENT HERE\n",
    "###\n",
    "#the set datatype was np.int8, which leads to an overflow at higher values.\n",
    "#This is because within numpy integers have a fixed size unlike within Python where the size is flexible."
   ]
  },
  {
   "cell_type": "markdown",
   "metadata": {},
   "source": [
    "<h3 style=\"text-align:left;\">Exercise 2 - Vacation selector<span style=\"float: right\">3 points</span></h3>"
   ]
  },
  {
   "cell_type": "markdown",
   "metadata": {},
   "source": [
    "The code below defines five vacation destinations (*locations*) and four attributes for each (*attributes*). Each row describes one destination, and the columns represent scores on the factors scenery, activities, food, and nightlife.\n",
    "\n",
    "Write a function *vacation_advisor* that asks the user whether they find each of the attributes important or not, and suggests the best vacation spot based on these preferences.\n",
    "\n",
    "Use techniques from the third lecture to solve the exercise.\n",
    "\n",
    "Example interaction:\n",
    "```python\n",
    "Is scenery important to you [y/n]?    > y\n",
    "Is activities important to you [y/n]? > y\n",
    "Is food important to you [y/n]?       > n\n",
    "Is nightlife important to you [y/n]?  > n\n",
    "Based on your preferences, the best destination is Australia\n",
    "```"
   ]
  },
  {
   "cell_type": "code",
   "execution_count": 28,
   "metadata": {},
   "outputs": [],
   "source": [
    "# List of destinations\n",
    "locations = np.array([ \"Hawaii\", \"Thailand\", \"Italy\", \"Australia\", \"Japan\" ])\n",
    "\n",
    "# List of attributes for each destination. Each column is an attribute. Each row a destination.\n",
    "attributes = np.array([\n",
    "    [8, 8, 7, 6],\n",
    "    [7, 9, 8, 7],\n",
    "    [8, 6, 9, 7],\n",
    "    [9, 8, 8, 6],\n",
    "    [7, 9, 7, 8]\n",
    "])\n",
    "\n",
    "# Declare attribute names and initialize boolean array with preferences\n",
    "attribute_names = ['scenery', 'activities', 'food', 'nightlife']\n"
   ]
  },
  {
   "cell_type": "code",
   "execution_count": 43,
   "metadata": {},
   "outputs": [
    {
     "name": "stdout",
     "output_type": "stream",
     "text": [
      "for selecting the best location for you, answer the following questions with y or n\n",
      "Based on your preferences, the best destinations are \n",
      "['Thailand' 'Australia' 'Japan']\n",
      "you might fine-tune your preferences a little bit if you want only one destination\n"
     ]
    }
   ],
   "source": [
    "###\n",
    "# YOUR CODE GOES HERE\n",
    "###\n",
    "#dependencies from cell above ; numpy already loaded\n",
    "\n",
    "#get user input and store it in \n",
    "print(\"for selecting the best location for you, answer the following questions with y or n\")\n",
    "# more elegant direction?\n",
    "#for preference in attribute_names:\n",
    "#    preference = input(\"Is \"+preference+\" important to you [y/n]?\")\n",
    "# simpler solution since we only have 4 parameter\n",
    "scenery = input(\"Is scenery important to you [y/n]?    >\")\n",
    "activities = input(\"Is activities important to you [y/n]? >\")\n",
    "food = input(\"Is food important to you [y/n]?       >\")\n",
    "nightlife = input(\"Is nightlife important to you [y/n]?  >\")\n",
    "\n",
    "# get all user input together\n",
    "user_input_holiday = np.array([scenery,activities,food,nightlife])\n",
    "#convert input to boolean array\n",
    "boolean_array = user_input_holiday == \"y\"\n",
    "# reducing all attributes to customer relevant ones \n",
    "relevant_attributes = attributes * boolean_array\n",
    "\n",
    "# taking all attributes into account\n",
    "# the array contains now column1= sum of relevant_attributes ; column2 = sum of attributes (meaning all attributes)\n",
    "decision_array = np.hstack((np.array((np.sum(relevant_attributes, axis=1))).reshape(5,1),np.array((np.sum(attributes, axis=1))).reshape(5,1)))\n",
    "    # i tried it with\n",
    "    # decision array = np.array((np.sum(relevant_attributes, axis=1),(np.sum(relevant_attributes, axis=1)).reshape(5,1,order=\"F\")\n",
    "    #but it did not work as expected (by me)\n",
    "\n",
    "# with this setting in the decision tree the relevant_attributes are taken into account twice\n",
    "# since this is what the customer wants, we leave it like that\n",
    "# if needed/wanted; correct for not counting the relevant attributes twice:\n",
    "#decision_array[:,1] = decision_array[:,1] - decision_array[:,0]\n",
    "\n",
    "#extract the wanted index, by the max values of the filtered attribute vallues\n",
    "max_value_preferred = np.max(decision_array[:,0])\n",
    "indices_preferred = np.where(decision_array[:,0] == max_value_preferred)\n",
    "# reduce decision array to customer relevant values\n",
    "decision_array[decision_array[:,0] != max_value_preferred] = [0,0]\n",
    "\n",
    "# in case there is a tie, the indices get further reduced by filtering over the second column\n",
    "max_value_all = np.max(decision_array[:,1])\n",
    "indices_preferred_all = np.where(decision_array[:,1] == max_value_all)\n",
    "    # in an attempt where I left the array as it was, I thought filtering by the existing indices might be a good idea - didnt work\n",
    "    #indices_preferred_all = np.where(decision_array[indices_preferred,1] == np.max(decision_array[indices_preferred,1]))\n",
    "\n",
    "# Output depending on the result of filtering\n",
    "if np.size(indices_preferred_all) == 1:\n",
    "    print(\"Based on your preferences, the best destination is \"+ locations[indices_preferred_all[0][0]])\n",
    "elif np.size(indices_preferred_all) >1:\n",
    "    print(\"Based on your preferences, the best destinations are \")\n",
    "    for index in indices_preferred_all:\n",
    "        print(locations[index])\n",
    "    print(\"you might fine-tune your preferences a little bit if you want only one destination\")\n",
    "else:\n",
    "    print(\"There might have been an issue with your choices, please give input another time\")\n"
   ]
  },
  {
   "cell_type": "markdown",
   "metadata": {},
   "source": [
    "<h3 style=\"text-align:left;\">Exercise 3 - Indexing<span style=\"float: right\">3 points</span></h3>"
   ]
  },
  {
   "cell_type": "markdown",
   "metadata": {},
   "source": [
    "You have two arrays of the same length: temperature *temp*, and humidity, *rh*. Write a program that:\n",
    "1) Substitutes the values of *temp* for which the corresponding values of *rh* is less than 0.3 with *np.nan*.\n",
    "2) On this new temperature array, calculate the mean value (do **not** calculate it on the original array).\n",
    "\n",
    "As an example:\n",
    "\n",
    "```python\n",
    "temp = [70, 80, 90]\n",
    "rh = [0.5, 0.2, 0.6]\n",
    "\n",
    "temp_nan --> [70, np.nan, 90]\n",
    "temp_avg --> 80\n",
    "```"
   ]
  },
  {
   "cell_type": "code",
   "execution_count": null,
   "metadata": {},
   "outputs": [],
   "source": [
    "# Generate some surrogate data\n",
    "\n",
    "np.random.seed(29041996)  # Make sure we all have the same data\n",
    "temp = 20 * np.cos(np.linspace(0, 2 * np.pi, 100)) + 80 + 2 * np.random.randn(100)\n",
    "rh = np.abs(0.1 * np.cos(np.linspace(0, 4 * np.pi, 100)) \n",
    "            + 0.3 + 0.05 * np.random.randn(100))"
   ]
  },
  {
   "cell_type": "code",
   "execution_count": null,
   "metadata": {},
   "outputs": [],
   "source": [
    "###\n",
    "# YOUR CODE GOES HERE\n",
    "###"
   ]
  },
  {
   "cell_type": "markdown",
   "metadata": {},
   "source": [
    "<h3 style=\"text-align:left;\">Exercise 4 - Base converter<span style=\"float: right\">2 points</span></h3>"
   ]
  },
  {
   "cell_type": "markdown",
   "metadata": {},
   "source": [
    "Write a function *int_to_bin* that takes a positive integer as input and returns the binary equivalent of that integer.\n",
    "\n",
    "You can **not** use built-in methods such as *bin()* in your solution."
   ]
  },
  {
   "cell_type": "code",
   "execution_count": 89,
   "metadata": {},
   "outputs": [
    {
     "name": "stdout",
     "output_type": "stream",
     "text": [
      "0b101010\n",
      "0b101010\n"
     ]
    }
   ],
   "source": [
    "###\n",
    "# YOUR CODE GOES HERE\n",
    "###\n",
    "# defining the wanted solution:\n",
    "print(bin(42))\n",
    "\n",
    "\n",
    "def int_to_bin (number):\n",
    "    exponent = 0\n",
    "    while 2**exponent <= number:\n",
    "        exponent +=1\n",
    "    exponent = exponent-1\n",
    "\n",
    "    relevant_exponents = list()\n",
    "    test = number\n",
    "    while test > 0:\n",
    "        if test - 2**exponent >= 0:\n",
    "            test = test - 2**exponent\n",
    "            relevant_exponents.append(exponent)\n",
    "            exponent = exponent -1\n",
    "        elif test - 2**exponent < 0:\n",
    "            exponent = exponent -1\n",
    "    \n",
    "    #we have to go down to -1 to include the 0\n",
    "    represented_exponents = np.array(range(max(relevant_exponents),-1,-1))\n",
    "    #print(represented_exponents)\n",
    "    boolean_used_exponents = np.array([exponent in relevant_exponents for exponent in represented_exponents], dtype=bool)\n",
    "    #print(boolean_used_exponents)\n",
    "\n",
    "    # print \"0b\" for binary and then join 1 for True and 0 elsewise (for False)\n",
    "    return print(\"0b\" +\"\".join(\"1\" if value else \"0\" for value in boolean_used_exponents))\n",
    "\n",
    "int_to_bin(42)"
   ]
  },
  {
   "cell_type": "markdown",
   "metadata": {},
   "source": [
    "<h3 style=\"text-align:left;\">Exercise 5 - Broadcasting<span style=\"float: right\">2 points</span></h3>"
   ]
  },
  {
   "cell_type": "markdown",
   "metadata": {},
   "source": [
    "Reshape *a* so it is possible to multiply *a* and *b*, and explain why you had to reshape *a* to be able to multiply the two arrays."
   ]
  },
  {
   "cell_type": "code",
   "execution_count": null,
   "metadata": {},
   "outputs": [],
   "source": [
    "import numpy as np\n",
    "\n",
    "a = np.array([[1, 2, 3], [4, 5, 6]])\n",
    "b = np.array([2, 3])\n",
    "\n",
    "###\n",
    "# YOUR CODE GOES HERE\n",
    "###"
   ]
  },
  {
   "cell_type": "code",
   "execution_count": null,
   "metadata": {},
   "outputs": [],
   "source": [
    "###\n",
    "# YOUR COMMENT HERE\n",
    "###"
   ]
  },
  {
   "cell_type": "markdown",
   "metadata": {},
   "source": [
    "<h3 style=\"text-align:left;\">Exercise 6 - Moving average<span style=\"float: right\">3 points</span></h3>"
   ]
  },
  {
   "cell_type": "markdown",
   "metadata": {},
   "source": [
    "Given the array of values, *a*, we can calculate the moving average by averaging nearby values and repeating the procedure sliding along the array. Here's an example of a 3-point moving average (ignoring the edges), with a for loop:"
   ]
  },
  {
   "cell_type": "code",
   "execution_count": 108,
   "metadata": {},
   "outputs": [
    {
     "name": "stdout",
     "output_type": "stream",
     "text": [
      "[30.5 30.8 28.9 28.7 30.1 30.5 33.1 28.9 26.8 29.5 30.7 28.8 28.  32.2\n",
      " 30.1 27.2 30.1 29.  27.7 28. ]\n",
      "[30.5        30.06666667 29.46666667 29.23333333 29.76666667 31.23333333\n",
      " 30.83333333 29.6        28.4        29.         29.66666667 29.16666667\n",
      " 29.66666667 30.1        29.83333333 29.13333333 28.76666667 28.93333333\n",
      " 28.23333333 28.        ]\n"
     ]
    }
   ],
   "source": [
    "a = np.round(30 + np.random.randn(20) * 2, 1)\n",
    "print(a)\n",
    "\n",
    "# Moving average\n",
    "a_avg = np.zeros_like(a)\n",
    "# We're just ignoring the edge effects here\n",
    "for i in range(1, len(a) - 1):\n",
    "    sub = a[i - 1:i + 2]\n",
    "    a_avg[i] = sub.mean()\n",
    "# For the first and last point, we use the original values.\n",
    "a_avg[[0, -1]] = a[[0, -1]]\n",
    "print(a_avg)"
   ]
  },
  {
   "cell_type": "markdown",
   "metadata": {},
   "source": [
    "Write a function *mov_avg* that takes an array in input and returns its 3-point moving average. You **have to use broadcasting** to compute the moving average. As in the example, use the original array values at the borders."
   ]
  },
  {
   "cell_type": "code",
   "execution_count": 110,
   "metadata": {},
   "outputs": [
    {
     "name": "stdout",
     "output_type": "stream",
     "text": [
      "[30.5        30.06666667 29.46666667 29.23333333 29.76666667 31.23333333\n",
      " 30.83333333 29.6        28.4        29.         29.66666667 29.16666667\n",
      " 29.66666667 30.1        29.83333333 29.13333333 28.76666667 28.93333333\n",
      " 28.23333333 28.        ]\n"
     ]
    }
   ],
   "source": [
    "###\n",
    "# YOUR CODE GOES HERE\n",
    "###\n",
    "#a = np.round(30 + np.random.randn(20) * 2, 1)\n",
    "#print(a)\n",
    "\n",
    "def movg_avg (array):\n",
    "    # same as above: copy-paste the array filled with 0s ; but define datatype as float for mean calculation\n",
    "    array_average = np.zeros_like(array, dtype=float)\n",
    "    # replace 0s with mean from before, middle, after\n",
    "    # Index for the array_average is from second to second last value\n",
    "    # It works - but WHY?!?\n",
    "    array_average[1:-1] = (array[:-2]+array[1:-1]+array[2:])/3.0\n",
    "    # replace the edge cases with the values from the original array\n",
    "    array_average[0] = array[0]\n",
    "    array_average[-1] = array[-1]\n",
    "\n",
    "    return array_average\n",
    "\n",
    "print(movg_avg(a))"
   ]
  }
 ],
 "metadata": {
  "kernelspec": {
   "display_name": "dash",
   "language": "python",
   "name": "python3"
  },
  "language_info": {
   "codemirror_mode": {
    "name": "ipython",
    "version": 3
   },
   "file_extension": ".py",
   "mimetype": "text/x-python",
   "name": "python",
   "nbconvert_exporter": "python",
   "pygments_lexer": "ipython3",
   "version": "3.11.8"
  }
 },
 "nbformat": 4,
 "nbformat_minor": 2
}
